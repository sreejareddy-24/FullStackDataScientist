{
 "cells": [
  {
   "cell_type": "code",
   "execution_count": 39,
   "id": "24302a02",
   "metadata": {},
   "outputs": [
    {
     "name": "stdout",
     "output_type": "stream",
     "text": [
      "\n",
      "Enter details for item 1:\n",
      "price of item 1 : 50\n",
      "quantity of item 1 : 2\n",
      "\n",
      "Enter details for item 2:\n",
      "price of item 2 : 30\n",
      "quantity of item 2 : 5\n",
      "\n",
      "Enter details for item 3:\n",
      "price of item 3 : 20\n",
      "quantity of item 3 : 3\n",
      "\n",
      "Total bill=310\n"
     ]
    }
   ],
   "source": [
    "# 1.Scenario: A grocery shopkeeper wants to calculate the bill of 3 items. Prices and quantities should be stored in variables, and the program should display the total cost.\n",
    "# Sample Input:\n",
    "# Item1 Price: 50, Quantity: 2\n",
    "# Item2 Price: 30, Quantity: 5\n",
    "# Item3 Price: 20, Quantity: 3\n",
    "# Expected Output:\n",
    "# Total Bill = (50*2) + (30*5) + (20*3) = 100 + 150 + 60 = 310\n",
    "\n",
    "bill=0\n",
    "for i in range(1,4):\n",
    "    print(f\"\\nEnter details for item {i}:\")\n",
    "    price=int(input(\"Enter price: \"))\n",
    "    print(f\"price of item {i} : {price}\")\n",
    "    quantity=int(input(\"Enter Quantity: \"))\n",
    "    print(f\"quantity of item {i} : {quantity}\")\n",
    "    bill+=price*quantity\n",
    "\n",
    "print(f\"\\nTotal bill={bill}\")\n",
    "\n",
    "\n"
   ]
  },
  {
   "cell_type": "code",
   "execution_count": null,
   "id": "2fee6270",
   "metadata": {},
   "outputs": [
    {
     "name": "stdout",
     "output_type": "stream",
     "text": [
      "19\n",
      "11\n",
      "60\n",
      "3.75\n",
      "3\n"
     ]
    }
   ],
   "source": [
    "# 2.Build a calculator that takes two numbers and performs addition, subtraction, multiplication, division, and modulus.\n",
    "# Sample Input:\n",
    "# Enter first number: 15\n",
    "# Enter second number: 4 \n",
    "# Expected Output:\n",
    "# Addition = 19\n",
    "# Subtraction = 11\n",
    "# Multiplication = 60\n",
    "# Division = 3.75\n",
    "# Modulus = 3\n",
    "\n",
    "a=int(input())\n",
    "b=int(input())\n",
    "\n",
    "print(\"Addition=\",a+b)\n",
    "print(\"Subtration=\",a-b)\n",
    "print(\"Multiplication=\",a*b)\n",
    "print(a/b)\n",
    "print(a%b)"
   ]
  },
  {
   "cell_type": "code",
   "execution_count": 7,
   "id": "49c91088",
   "metadata": {},
   "outputs": [
    {
     "name": "stdout",
     "output_type": "stream",
     "text": [
      "A\n"
     ]
    }
   ],
   "source": [
    "# 3.A teacher wants a grading system where marks are input, and the grade is displayed.\n",
    "# Sample Input:\n",
    "# Enter marks: 82\n",
    "# Expected Output:\n",
    "# Grade: A (Excellent)\n",
    "# (Rules: >=90 → A+, 80–89 → A, 70–79 → B, 60–69 → C, <60 → Fail)\n",
    "\n",
    "marks=int(input())\n",
    "\n",
    "if marks>=90 and marks<100:\n",
    "    print(\"A+\")\n",
    "elif marks>=80 and marks<90:\n",
    "    print(\"A\")\n",
    "elif marks>=70 and marks<80:\n",
    "    print(\"B\")\n",
    "elif marks>=60 and marks<70:\n",
    "    print(\"B\")\n",
    "else:\n",
    "    print(\"Fail\")"
   ]
  },
  {
   "cell_type": "code",
   "execution_count": 9,
   "id": "67209f91",
   "metadata": {},
   "outputs": [
    {
     "name": "stdout",
     "output_type": "stream",
     "text": [
      "Highest marks=90\n",
      "lowest marks=45\n",
      "Average marks= 71.4\n"
     ]
    }
   ],
   "source": [
    "# 4 Student Marks List\n",
    "# Scenario: Store marks of 5 students in a list. Display the highest, lowest, and average marks. \n",
    "# Sample Input: \n",
    "# Marks: [45, 78, 88, 56, 90]\n",
    "# Expected Output:\n",
    "# Highest Marks = 90\n",
    "# Lowest Marks = 45\n",
    "# Average Marks = 71.4\n",
    "\n",
    "marks=list(map(int,input(\"ENter marks of 5 students\").split()))\n",
    "obtained_marks=sum(marks)\n",
    "\n",
    "print(f\"Highest marks={max(marks)}\")\n",
    "print(f\"lowest marks={min(marks)}\")\n",
    "print(f\"Average marks= {obtained_marks/5}\")"
   ]
  },
  {
   "cell_type": "code",
   "execution_count": 10,
   "id": "e85f8bab",
   "metadata": {},
   "outputs": [
    {
     "name": "stdout",
     "output_type": "stream",
     "text": [
      "phone number of Ravi is 9123456780\n"
     ]
    }
   ],
   "source": [
    "# 5.Create a phonebook using a dictionary where names are keys and numbers are values. Allow searching for a number by name.\n",
    "# Sample Input:\n",
    "# Phonebook = {\"Suhel\": 9876543210, \"Ravi\": 9123456780, \"Anita\": 9988776655}\n",
    "# Search Name: Ravi\n",
    "# Expected Output:\n",
    "# Phone Number of Ravi: 9123456780\n",
    "\n",
    "Phonebook = {\"Suhel\": 9876543210, \"Ravi\": 9123456780, \"Anita\": 9988776655}\n",
    "search_name=input()\n",
    "\n",
    "if search_name in Phonebook:\n",
    "    print(f\"phone number of {search_name} is {Phonebook[search_name]}\")"
   ]
  },
  {
   "cell_type": "code",
   "execution_count": 47,
   "id": "a9d1ef1b",
   "metadata": {},
   "outputs": [
    {
     "name": "stdout",
     "output_type": "stream",
     "text": [
      "Total Words= 3\n",
      "Total vowels= 6\n",
      "Total characters= 17\n"
     ]
    }
   ],
   "source": [
    "# 6 Write a program to count the number of words, characters, and vowels in a sentence.\n",
    "# Sample Input: \n",
    "# Enter sentence: \"Python is awesome\"\n",
    "# Expected Output: \n",
    "# Total Words = 3\n",
    "# Total Characters = 16\n",
    "# Total Vowels = 6\n",
    "\n",
    "s=input()\n",
    "words=1\n",
    "vowels=0\n",
    "characters=0\n",
    "s=s.lower()\n",
    "\n",
    "for ch in s:\n",
    "    characters+=1\n",
    "    if ch==\" \":\n",
    "        words+=1\n",
    "    if ch in \"aeiou\":\n",
    "        vowels+=1\n",
    "    \n",
    "        \n",
    "\n",
    "print(\"Total Words=\",words)\n",
    "print(\"Total vowels=\",vowels)\n",
    "print(\"Total characters=\",characters)"
   ]
  },
  {
   "cell_type": "code",
   "execution_count": 51,
   "id": "0c83ddb9",
   "metadata": {},
   "outputs": [
    {
     "name": "stdout",
     "output_type": "stream",
     "text": [
      "512.5\n",
      "5512.5\n"
     ]
    }
   ],
   "source": [
    "# 7.A bank provides simple interest and compound interest. A user inputs principal, rate, time, and type of interest. Program should calculate accordingly. \n",
    "# Sample Input:\n",
    "# Principal = 5000\n",
    "# Rate = 5\n",
    "# Time = 2\n",
    "# Interest Type = Compound\n",
    "# Expected Output:\n",
    "# Compound Interest = 512.50\n",
    "# Total Amount = 5512.50\n",
    "\n",
    "principal_amount=float(input())\n",
    "rate=float(input())\n",
    "time=float(input())\n",
    "interest_type=input()\n",
    "total_Amount=0\n",
    "\n",
    "if interest_type==\"simple\":\n",
    "    interest=(principal_amount*time*rate)/100\n",
    "    total_Amount=principal_amount+interest\n",
    "    print(total_Amount)\n",
    "else:\n",
    "    total_Amount = principal_amount * (1 + rate/100) ** time\n",
    "    interest = total_Amount - principal_amount\n",
    "    print(interest)\n",
    "    print(total_Amount)"
   ]
  },
  {
   "cell_type": "code",
   "execution_count": null,
   "id": "d677efa5",
   "metadata": {},
   "outputs": [],
   "source": [
    "# 8 Implement a Caesar Cipher encryption. User inputs a message and a shift key. Program outputs the encrypted text using operators. \n",
    "# Sample Input:\n",
    "# Message = \"HELLO\"\n",
    "# Shift = 3\n",
    "# Expected Output:\n",
    "# Encrypted Message: KHOOR\n",
    "\n"
   ]
  }
 ],
 "metadata": {
  "kernelspec": {
   "display_name": "Python 3",
   "language": "python",
   "name": "python3"
  },
  "language_info": {
   "codemirror_mode": {
    "name": "ipython",
    "version": 3
   },
   "file_extension": ".py",
   "mimetype": "text/x-python",
   "name": "python",
   "nbconvert_exporter": "python",
   "pygments_lexer": "ipython3",
   "version": "3.11.13"
  }
 },
 "nbformat": 4,
 "nbformat_minor": 5
}
