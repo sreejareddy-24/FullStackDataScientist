{
 "cells": [
  {
   "cell_type": "code",
   "execution_count": 4,
   "id": "d6d05753",
   "metadata": {},
   "outputs": [
    {
     "name": "stdout",
     "output_type": "stream",
     "text": [
      "total words: 4\n"
     ]
    }
   ],
   "source": [
    "# 1. Problem: Given a text file, count the total number of words.\n",
    "\n",
    "with open(\"ex.txt\",\"r\") as f:\n",
    "    text=f.read()\n",
    "\n",
    "words=text.split()\n",
    "print(\"total words:\",len(words))"
   ]
  },
  {
   "cell_type": "code",
   "execution_count": 8,
   "id": "7201c6b1",
   "metadata": {},
   "outputs": [
    {
     "name": "stdout",
     "output_type": "stream",
     "text": [
      "strong password\n"
     ]
    }
   ],
   "source": [
    "# 2. Problem: Write a program to check if a password is strong (at least 8 characters, contains uppercase, lowercase, digit, and special char).\n",
    "\n",
    "import string\n",
    "def password_checker(pwd):\n",
    "    if len(pwd)<0:\n",
    "        return \"weak password:less than 8 characters\"\n",
    "    \n",
    "    has_upper=False\n",
    "    has_lower=False\n",
    "    has_digit=False\n",
    "    has_special=False\n",
    "\n",
    "    special_chars=string.punctuation\n",
    "\n",
    "    for ch in pwd:\n",
    "        if ch.isupper():\n",
    "            has_upper=True\n",
    "\n",
    "        elif ch.islower():\n",
    "            has_lower=True\n",
    "\n",
    "        elif ch.isdigit():\n",
    "            has_digit=True\n",
    "\n",
    "        elif ch in special_chars:\n",
    "            has_special=True\n",
    "\n",
    "    if has_digit and has_lower and has_upper and has_special:\n",
    "        return \"strong password\"\n",
    "    else:\n",
    "        return \"weak password\"\n",
    "    \n",
    "\n",
    "print(password_checker(\"Fishisred@89\"))\n",
    "\n",
    "\n",
    "\n"
   ]
  },
  {
   "cell_type": "code",
   "execution_count": 13,
   "id": "02367fb1",
   "metadata": {},
   "outputs": [
    {
     "name": "stdout",
     "output_type": "stream",
     "text": [
      "55\n",
      "can't divide by 0\n"
     ]
    }
   ],
   "source": [
    "# 3. Problem: Implement a calculator with +, -, *, / operations.\n",
    "\n",
    "class cal():\n",
    "    def add(self,a,b):\n",
    "        return a+b\n",
    "    def sub(self,a,b):\n",
    "        return a-b\n",
    "    def mul(self,a,b):\n",
    "        return a*b\n",
    "    def div(self,a,b):\n",
    "        if b==0:\n",
    "            return \"can't divide by 0\"\n",
    "    \n",
    "        return a/b\n",
    "    \n",
    "\n",
    "cal=cal()\n",
    "print(cal.add(22,33))\n",
    "print(cal.div(22,0))\n",
    "        "
   ]
  },
  {
   "cell_type": "code",
   "execution_count": 16,
   "id": "a54d629f",
   "metadata": {},
   "outputs": [
    {
     "name": "stdout",
     "output_type": "stream",
     "text": [
      "duplicates are: ['apple']\n"
     ]
    }
   ],
   "source": [
    "# 4. Problem: Given a list of student names, find duplicates.\n",
    "\n",
    "names=input(\"enter names\").split()\n",
    "res=[]\n",
    "dup=[]\n",
    "\n",
    "for name in names:\n",
    "    if name in res:\n",
    "        dup.append(name)\n",
    "    else:\n",
    "        res.append(name)\n",
    "\n",
    "print(\"duplicates are:\",dup)\n"
   ]
  },
  {
   "cell_type": "code",
   "execution_count": 17,
   "id": "1454a132",
   "metadata": {},
   "outputs": [
    {
     "name": "stdout",
     "output_type": "stream",
     "text": [
      "celsius: 98.60000000000001\n",
      "farenheit: 36.666666666666664\n"
     ]
    }
   ],
   "source": [
    "# 5. Problem: Convert between Celsius and Fahrenheit.\n",
    "\n",
    "def c_to_f(celsius):\n",
    "    farenheit =celsius*(9/5)+32\n",
    "    return farenheit\n",
    "\n",
    "def f_to_c(farenheit):\n",
    "    celsius=(farenheit-32)*5/9\n",
    "    return celsius\n",
    "\n",
    "print(\"celsius:\",c_to_f(37))\n",
    "print(\"farenheit:\",f_to_c(98))\n"
   ]
  },
  {
   "cell_type": "code",
   "execution_count": 20,
   "id": "3288349b",
   "metadata": {},
   "outputs": [
    {
     "name": "stdout",
     "output_type": "stream",
     "text": [
      "72\n"
     ]
    }
   ],
   "source": [
    "# 6. Problem: Find the largest number from a list of integers.\n",
    "\n",
    "l=list(map(int,input(\"enter numbers\").split()))\n",
    "print(max(l))"
   ]
  },
  {
   "cell_type": "code",
   "execution_count": 21,
   "id": "9f5f93ec",
   "metadata": {},
   "outputs": [
    {
     "name": "stdout",
     "output_type": "stream",
     "text": [
      "300.0\n"
     ]
    }
   ],
   "source": [
    "# 7. Problem: Calculate Simple Interest.\n",
    "\n",
    "def simple_interest(p,t,r):\n",
    "    return (p*t*r)/100\n",
    "\n",
    "print(simple_interest(10000,1,3))"
   ]
  },
  {
   "cell_type": "code",
   "execution_count": 25,
   "id": "1e92fa5e",
   "metadata": {},
   "outputs": [
    {
     "name": "stdout",
     "output_type": "stream",
     "text": [
      "{'charlie': 45}\n"
     ]
    }
   ],
   "source": [
    "# 8. Problem: Given a dictionary of student names and attendance %, find defaulters (<75%).\n",
    "\n",
    "students=[{\"alice\":89},{\"bob\":77},{\"charlie\":45}]\n",
    "d={}\n",
    "\n",
    "for student in students:\n",
    "    for name,attendance in student.items():\n",
    "        if attendance<75:\n",
    "            d[name]=attendance\n",
    "print(d)\n"
   ]
  },
  {
   "cell_type": "code",
   "execution_count": 29,
   "id": "802f5df9",
   "metadata": {},
   "outputs": [
    {
     "name": "stdout",
     "output_type": "stream",
     "text": [
      "10\n"
     ]
    }
   ],
   "source": [
    "# Problem: Input: 1234 → Output: 10\n",
    "\n",
    "def sum_of_digits(num):\n",
    "    sum=0\n",
    "    while num>0:\n",
    "        digit=num%10\n",
    "        sum+=digit\n",
    "        num//=10\n",
    "    return sum\n",
    "\n",
    "print(sum_of_digits(1234))"
   ]
  },
  {
   "cell_type": "code",
   "execution_count": 9,
   "id": "87210246",
   "metadata": {},
   "outputs": [
    {
     "name": "stdout",
     "output_type": "stream",
     "text": [
      "False\n"
     ]
    }
   ],
   "source": [
    "# 10. Problem: Write a function to check if a number is prime.\n",
    "\n",
    "def is_prime(num):\n",
    "    if num <= 1:\n",
    "        return False\n",
    "    for i in range(2,num):\n",
    "        if num%i==0:\n",
    "            return False\n",
    "    return True\n",
    "            \n",
    "print(is_prime(9))\n"
   ]
  },
  {
   "cell_type": "code",
   "execution_count": 12,
   "id": "c8bf7bb5",
   "metadata": {},
   "outputs": [
    {
     "name": "stdout",
     "output_type": "stream",
     "text": [
      "7\n",
      "4\n"
     ]
    }
   ],
   "source": [
    "# 11. Problem: Find smallest and largest numbers from a list.\n",
    "\n",
    "l=list(map(int,input(\"enter numbers\").split()))\n",
    "print(max(l))\n",
    "print(min(l))\n"
   ]
  },
  {
   "cell_type": "code",
   "execution_count": 14,
   "id": "57adf847",
   "metadata": {},
   "outputs": [
    {
     "name": "stdout",
     "output_type": "stream",
     "text": [
      "130\n"
     ]
    }
   ],
   "source": [
    "# 12. Problem: Given items with prices in a dictionary, calculate total bill.\n",
    "\n",
    "items=[{\"bat\":\"100\"},{\"ball\":20},{\"pen\":10}]\n",
    "total=0\n",
    "for item in items:\n",
    "    for name,price in item.items():\n",
    "        total+=int(price)\n",
    "\n",
    "print(total)\n",
    "\n"
   ]
  },
  {
   "cell_type": "code",
   "execution_count": 16,
   "id": "38aadbfc",
   "metadata": {},
   "outputs": [
    {
     "name": "stdout",
     "output_type": "stream",
     "text": [
      "5\n"
     ]
    }
   ],
   "source": [
    "# 13. Problem: Input 3 numbers, print the largest.\n",
    "\n",
    "l=list(map(int,input(\"Enter numbers\").split()))\n",
    "if len(l)>3:\n",
    "    print(\"enter only three nummbers\")\n",
    "print(max(l))"
   ]
  },
  {
   "cell_type": "code",
   "execution_count": 20,
   "id": "dbecc096",
   "metadata": {},
   "outputs": [
    {
     "name": "stdout",
     "output_type": "stream",
     "text": [
      "{'a': 2, 'l': 1, 'p': 1, 'h': 1}\n"
     ]
    }
   ],
   "source": [
    "# 14. Problem: Count how many times each character appears in a string.\n",
    "\n",
    "def character_count(s):\n",
    "    c={}\n",
    "    for ch in s:\n",
    "        if ch in c:\n",
    "            c[ch]+=1\n",
    "        else:\n",
    "            c[ch]=1\n",
    "    return c\n",
    "\n",
    "print(character_count(\"alpha\"))"
   ]
  },
  {
   "cell_type": "code",
   "execution_count": 21,
   "id": "001eb1fc",
   "metadata": {},
   "outputs": [
    {
     "name": "stdout",
     "output_type": "stream",
     "text": [
      "1580\n"
     ]
    }
   ],
   "source": [
    "# `15. Problem: Calculate electricity bill:\n",
    "# First 100 units → ₹5/unit\n",
    "# Next 100 units → ₹7/unit\n",
    "# Above 200 units → ₹10/unit`\n",
    "\n",
    "def bill(units):\n",
    "    if units<=100:\n",
    "        total=units*5\n",
    "    elif units<=200:\n",
    "        total=100*5+(units-100)*7\n",
    "    else:\n",
    "        total=100*5+100*7+(units-200)*10\n",
    "    return total\n",
    "\n",
    "print(bill(238))    "
   ]
  },
  {
   "cell_type": "code",
   "execution_count": 22,
   "id": "c5c2bdea",
   "metadata": {},
   "outputs": [
    {
     "name": "stdout",
     "output_type": "stream",
     "text": [
      "['alice', 'bob', 'charlie', 'david']\n"
     ]
    }
   ],
   "source": [
    "# 16. Problem: Sort a list of names in ascending order.\n",
    "\n",
    "l=input(\"enter names\").split()\n",
    "l.sort()\n",
    "print(l)"
   ]
  },
  {
   "cell_type": "code",
   "execution_count": 30,
   "id": "cf174a48",
   "metadata": {},
   "outputs": [
    {
     "name": "stdout",
     "output_type": "stream",
     "text": [
      "4321\n"
     ]
    }
   ],
   "source": [
    "# 17. Problem: Input: 1234 → Output: 4321\n",
    "\n",
    "def reverse_num(num):\n",
    "    reverse=0\n",
    "    while num>0:\n",
    "        digit=num%10\n",
    "        reverse=reverse*10+digit\n",
    "        num//=10\n",
    "    return reverse\n",
    "\n",
    "print(reverse_num(1234))\n"
   ]
  },
  {
   "cell_type": "code",
   "execution_count": null,
   "id": "8e2ec83a",
   "metadata": {},
   "outputs": [
    {
     "name": "stdout",
     "output_type": "stream",
     "text": [
      "positive numbers: 4\n",
      "negative numbers: 3\n",
      "zero numbers: 1\n"
     ]
    }
   ],
   "source": [
    "# 18. Problem: Given a list, count positive, negative, and zero numbers.\n",
    "\n",
    "def count(nums):\n",
    "    pos=0\n",
    "    neg=0\n",
    "    z=0\n",
    "    \n",
    "    for num in nums:\n",
    "        if num>0:\n",
    "            pos+=1\n",
    "        elif num<0:\n",
    "            neg+=1\n",
    "        else:\n",
    "            z+=1\n",
    "    return pos,neg,z\n",
    "\n",
    "nums=list(map(int,input(\"Enter numbers\").split()))\n",
    "pos,neg,z=count(nums)\n",
    "print(\"positive numbers:\",pos)\n",
    "print(\"negative numbers:\",neg)\n",
    "print(\"zero numbers:\",z)"
   ]
  },
  {
   "cell_type": "code",
   "execution_count": null,
   "id": "82599c5b",
   "metadata": {},
   "outputs": [],
   "source": [
    "# 19. Problem: User has 3 attempts to enter correct PIN.\n",
    "\n",
    "def valid_pin(pin):\n",
    "    attempts=3\n",
    "    while attempts>0:"
   ]
  },
  {
   "cell_type": "markdown",
   "id": "9dd86d16",
   "metadata": {},
   "source": []
  }
 ],
 "metadata": {
  "kernelspec": {
   "display_name": "Python 3",
   "language": "python",
   "name": "python3"
  },
  "language_info": {
   "codemirror_mode": {
    "name": "ipython",
    "version": 3
   },
   "file_extension": ".py",
   "mimetype": "text/x-python",
   "name": "python",
   "nbconvert_exporter": "python",
   "pygments_lexer": "ipython3",
   "version": "3.11.13"
  }
 },
 "nbformat": 4,
 "nbformat_minor": 5
}
