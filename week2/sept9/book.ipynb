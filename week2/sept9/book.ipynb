{
 "cells": [
  {
   "cell_type": "code",
   "execution_count": 4,
   "id": "e52f9337",
   "metadata": {},
   "outputs": [
    {
     "name": "stdout",
     "output_type": "stream",
     "text": [
      "[0, 1, 1, 2, 3, 5, 8]\n"
     ]
    }
   ],
   "source": [
    "# 1. Fibonacci Generator\n",
    "# * Function generates `n` Fibonacci numbers.\n",
    "# * Input: `n = 7`\n",
    "# * Output: `[0, 1, 1, 2, 3, 5, 8]\n",
    "\n",
    "def fibonacci(n):\n",
    "    result=[]\n",
    "    a,b=0,1\n",
    "    for i in range(n):\n",
    "        result.append(a)\n",
    "        a,b=b,a+b\n",
    "    return result\n",
    "\n",
    "print(fibonacci(7))\n",
    "\n"
   ]
  },
  {
   "cell_type": "code",
   "execution_count": 8,
   "id": "fe69a80b",
   "metadata": {},
   "outputs": [
    {
     "data": {
      "text/plain": [
       "120"
      ]
     },
     "execution_count": 8,
     "metadata": {},
     "output_type": "execute_result"
    }
   ],
   "source": [
    "# 2. Factorial Using Recursion\n",
    "# * Compute factorial using recursion.\n",
    "# * Input: `5`\n",
    "# * Output: `120`\n",
    "\n",
    "def fact(n):\n",
    "    if n==1 or n==0:\n",
    "        return 1\n",
    "    return n*fact(n-1)\n",
    "\n",
    "fact(5)"
   ]
  },
  {
   "cell_type": "code",
   "execution_count": 11,
   "id": "03d1e4ef",
   "metadata": {},
   "outputs": [
    {
     "name": "stdout",
     "output_type": "stream",
     "text": [
      "{'apple': 2, 'banana': 2, 'orange': 1}\n"
     ]
    }
   ],
   "source": [
    "# 3. Unique Words Counter\n",
    "# * Return unique words in a sentence.\n",
    "# * Input: `\"apple banana apple orange banana\"`\n",
    "# * Output: `{'apple':2,'banana':2,'orange':1}`\n",
    "\n",
    "from collections import Counter\n",
    "def unique(s):\n",
    "    output={}\n",
    "    words=s.split()\n",
    "    for word in words:\n",
    "        if word not in output:\n",
    "            output[word]=1\n",
    "        else:\n",
    "            output[word]+=1\n",
    "    return output\n",
    "\n",
    "print(unique(\"apple banana apple orange banana\"))\n"
   ]
  },
  {
   "cell_type": "code",
   "execution_count": 17,
   "id": "804760e5",
   "metadata": {},
   "outputs": [
    {
     "name": "stdout",
     "output_type": "stream",
     "text": [
      "Grade:A\n"
     ]
    }
   ],
   "source": [
    "# 4. Grade Calculator\n",
    "# * Function takes marks and returns grade.\n",
    "# * Input: `[85, 90, 78]`\n",
    "# * Output: `\"Grade: A\"`\n",
    "\n",
    "def grade_cal(marks):\n",
    "    total=sum(marks)\n",
    "    avg=total/len(marks)\n",
    "\n",
    "    if avg>90 and avg<100:\n",
    "        return \"Grade:S\"\n",
    "    elif avg>80 and avg<90:\n",
    "        return \"Grade:A\"\n",
    "    elif avg>70 and avg<80:\n",
    "        return \"Grade:B\"\n",
    "\n",
    "print(grade_cal([85,90,78]))"
   ]
  },
  {
   "cell_type": "code",
   "execution_count": 20,
   "id": "963f5955",
   "metadata": {},
   "outputs": [
    {
     "name": "stdout",
     "output_type": "stream",
     "text": [
      "5\n"
     ]
    }
   ],
   "source": [
    "# 5. Second Largest Number\n",
    "# * Return 2nd largest number from a list.\n",
    "# * Input: `[10, 5, 20, 8]`\n",
    "# * Output: `10`\n",
    "\n",
    "def second_largest(l):\n",
    "    l1=l.sort()\n",
    "    return l[-2]\n",
    "\n",
    "print(second_largest([7,2,3,2,1,5]))"
   ]
  },
  {
   "cell_type": "code",
   "execution_count": 26,
   "id": "c4755e07",
   "metadata": {},
   "outputs": [
    {
     "name": "stdout",
     "output_type": "stream",
     "text": [
      "Text files: 2\n",
      "Python files: 2\n",
      "CSV files: 1\n"
     ]
    }
   ],
   "source": [
    "# 1. `os` → Count Files by Extension\n",
    "# Write a program using `os` to count how many `.txt` and `.py` files are in the current directory.\n",
    "# Sample Input (files in folder):\n",
    "# ```\n",
    "# [\"notes.txt\", \"app.py\", \"data.csv\", \"report.txt\", \"main.py\"]\n",
    "# ```\n",
    "# Sample Output:\n",
    "# ```\n",
    "# Text files: 2\n",
    "# Python files: 2\n",
    "# ```\n",
    "# ---\n",
    "\n",
    "import os\n",
    "def extensions(files):\n",
    "    txt=0\n",
    "    py=0\n",
    "    csv=0\n",
    "    for file in files:\n",
    "        if file.endswith(\".txt\"):\n",
    "            txt+=1\n",
    "        elif file.endswith(\".py\"):\n",
    "            py+=1\n",
    "        elif file.endswith(\".csv\"):\n",
    "            csv+=1\n",
    "    return txt,py,csv\n",
    "        \n",
    "files=[\"notes.txt\", \"app.py\", \"data.csv\", \"report.txt\", \"main.py\"]\n",
    "txt,py,csv=extensions(files)\n",
    "print(\"Text files:\", txt)\n",
    "print(\"Python files:\", py)\n",
    "print(\"CSV files:\", csv)"
   ]
  },
  {
   "cell_type": "code",
   "execution_count": 27,
   "id": "22e308bd",
   "metadata": {},
   "outputs": [
    {
     "name": "stdout",
     "output_type": "stream",
     "text": [
      "Mean = 87.86\n",
      "Median = 90\n",
      "Variance = 73.81\n"
     ]
    }
   ],
   "source": [
    "# 2. `statistics` → Exam Score Analysis\n",
    "# Use `statistics` to calculate the mean, median, and variance of student exam scores.\n",
    "# Sample Input:\n",
    "# Scores = [75, 80, 90, 100, 85, 90, 95]\n",
    "# Sample Output:\n",
    "# Mean = 88.57\n",
    "# Median = 90\n",
    "# Variance = 71.43\n",
    "\n",
    "import statistics\n",
    "\n",
    "def exam(scores):\n",
    "    mean=statistics.mean(scores)\n",
    "    median=statistics.median(scores)\n",
    "    variance=statistics.variance(scores)\n",
    "    return mean,median,variance\n",
    "\n",
    "scores=[75, 80, 90, 100, 85, 90, 95]\n",
    "\n",
    "mean,median,variance=exam(scores)\n",
    "\n",
    "print(\"Mean =\", round(mean, 2))\n",
    "print(\"Median =\", median)\n",
    "print(\"Variance =\", round(variance, 2))"
   ]
  },
  {
   "cell_type": "code",
   "execution_count": 28,
   "id": "bd63c981",
   "metadata": {},
   "outputs": [
    {
     "name": "stdout",
     "output_type": "stream",
     "text": [
      "roots: 2.0 and 1.0\n"
     ]
    }
   ],
   "source": [
    "# 3. `math` → Quadratic Equation Solver\n",
    "# Use the `math` module to solve quadratic equations of the form `ax² + bx + c = 0`.\n",
    "# Sample Input:\n",
    "# a = 1, b = -3, c = 2\n",
    "# Sample Output:\n",
    "# Roots are: 1.0 and 2.0\n",
    "\n",
    "import math\n",
    "def quad(a,b,c):\n",
    "    d=b**2-4*a*c\n",
    "\n",
    "    if d<0:\n",
    "        return \"No real roots\"\n",
    "    \n",
    "    r1=(-b+math.sqrt(d))/(2*a)\n",
    "    r2=(-b-math.sqrt(d))/(2*a)\n",
    "\n",
    "    return r1,r2\n",
    "\n",
    "a=1\n",
    "b=-3\n",
    "c=2\n",
    "\n",
    "roots=quad(a,b,c)\n",
    "print(\"roots:\",roots[0],\"and\",roots[1])"
   ]
  },
  {
   "cell_type": "code",
   "execution_count": 29,
   "id": "3b93ad54",
   "metadata": {},
   "outputs": [
    {
     "name": "stdout",
     "output_type": "stream",
     "text": [
      "You chose Paper, Computer chose Rock\n",
      "You Win!\n"
     ]
    }
   ],
   "source": [
    "# 4. `random` → Rock Paper Scissors Game\n",
    "# Use `random.choice()` to let the computer play Rock–Paper–Scissors against the user.\n",
    "# Sample Input: \n",
    "# User: Rock\n",
    "# Computer (random): Scissors\n",
    "# Sample Output:\n",
    "# You chose Rock, Computer chose Scissors\n",
    "# You Win!\n",
    "\n",
    "import random\n",
    "\n",
    "def rock_paper_scissors():\n",
    "    options = [\"Rock\", \"Paper\", \"Scissors\"]\n",
    " \n",
    "    user_choice = input(\"Enter Rock, Paper, or Scissors: \").capitalize()\n",
    "    \n",
    "    if user_choice not in options:\n",
    "        print(\"Invalid choice!\")\n",
    "        return\n",
    "\n",
    "    computer_choice = random.choice(options)\n",
    "    \n",
    "    print(f\"You chose {user_choice}, Computer chose {computer_choice}\")\n",
    "\n",
    "    if user_choice == computer_choice:\n",
    "        print(\"It's a Tie!\")\n",
    "    elif (user_choice == \"Rock\" and computer_choice == \"Scissors\") or \\\n",
    "         (user_choice == \"Paper\" and computer_choice == \"Rock\") or \\\n",
    "         (user_choice == \"Scissors\" and computer_choice == \"Paper\"):\n",
    "        print(\"You Win!\")\n",
    "    else:\n",
    "        print(\"Computer Wins!\")\n",
    "\n",
    "rock_paper_scissors()\n"
   ]
  },
  {
   "cell_type": "code",
   "execution_count": 1,
   "id": "9dd1bfc3",
   "metadata": {},
   "outputs": [
    {
     "name": "stdout",
     "output_type": "stream",
     "text": [
      "Usage: python add.py num1 num2 num3\n"
     ]
    },
    {
     "ename": "SystemExit",
     "evalue": "1",
     "output_type": "error",
     "traceback": [
      "An exception has occurred, use %tb to see the full traceback.\n",
      "\u001b[31mSystemExit\u001b[39m\u001b[31m:\u001b[39m 1\n"
     ]
    },
    {
     "name": "stderr",
     "output_type": "stream",
     "text": [
      "c:\\Users\\Sreeja Reddy\\Desktop\\tekworks aiml\\venv\\Lib\\site-packages\\IPython\\core\\interactiveshell.py:3675: UserWarning: To exit: use 'exit', 'quit', or Ctrl-D.\n",
      "  warn(\"To exit: use 'exit', 'quit', or Ctrl-D.\", stacklevel=1)\n"
     ]
    }
   ],
   "source": [
    "# 5. `sys` → Sum from Command Line\n",
    "# Write a program using `sys.argv` to take three numbers from the command line and print their sum.\n",
    "# Sample Input (command line):\n",
    "# python add.py 5 10 15\n",
    "# Sample Output:\n",
    "# Sum = 30\n",
    "\n",
    "import sys\n",
    "\n",
    "if len(sys.argv) != 4:\n",
    "    print(\"Usage: python add.py num1 num2 num3\")\n",
    "    sys.exit(1)\n",
    "\n",
    "num1 = int(sys.argv[1])\n",
    "num2 = int(sys.argv[2])\n",
    "num3 = int(sys.argv[3])\n",
    "\n",
    "total = num1 + num2 + num3\n",
    "\n",
    "print(\"Sum =\", total)\n"
   ]
  },
  {
   "cell_type": "code",
   "execution_count": null,
   "id": "7ca245ee",
   "metadata": {},
   "outputs": [],
   "source": []
  }
 ],
 "metadata": {
  "kernelspec": {
   "display_name": "Python 3",
   "language": "python",
   "name": "python3"
  },
  "language_info": {
   "codemirror_mode": {
    "name": "ipython",
    "version": 3
   },
   "file_extension": ".py",
   "mimetype": "text/x-python",
   "name": "python",
   "nbconvert_exporter": "python",
   "pygments_lexer": "ipython3",
   "version": "3.11.13"
  }
 },
 "nbformat": 4,
 "nbformat_minor": 5
}
