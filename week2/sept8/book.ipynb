{
 "cells": [
  {
   "cell_type": "code",
   "execution_count": 6,
   "id": "fc8e6a9d",
   "metadata": {},
   "outputs": [
    {
     "name": "stdout",
     "output_type": "stream",
     "text": [
      "[(2, 1), (1, 2), (2, 3), (4, 4), (2, 5)]\n"
     ]
    }
   ],
   "source": [
    "# Write a Python program to get a list, sorted in increasing order by the last element in each tuple from a given list of non-empty tuples.\n",
    "\n",
    "l= [(2, 5), (1, 2), (4, 4), (2, 3), (2, 1)]\n",
    "\n",
    "sorted_list=sorted(l,key=lambda x:x[-1])\n",
    "print(sorted_list)"
   ]
  },
  {
   "cell_type": "code",
   "execution_count": 7,
   "id": "28a57e43",
   "metadata": {},
   "outputs": [
    {
     "name": "stdout",
     "output_type": "stream",
     "text": [
      "[35, 12, 155, 24, 88, 120]\n"
     ]
    }
   ],
   "source": [
    "# With a given list [12,24,35,24,88,120,155,88,120,155], write a program to print this list after removing all duplicate values with original order reserved.\n",
    "\n",
    "l=[12,24,35,24,88,120,155,88,120,155]\n",
    "\n",
    "new_l=list(set(l))\n",
    "print(new_l)"
   ]
  },
  {
   "cell_type": "code",
   "execution_count": 1,
   "id": "161032ef",
   "metadata": {},
   "outputs": [
    {
     "name": "stdout",
     "output_type": "stream",
     "text": [
      "[12, 24, 35, 88, 120, 155]\n"
     ]
    }
   ],
   "source": [
    "# With a given list [12,24,35,24,88,120,155,88,120,155], write a program to print this list after removing all duplicate values with original order reserved.\n",
    "\n",
    "l=[12,24,35,24,88,120,155,88,120,155]\n",
    "\n",
    "new=[]\n",
    "for item in l:\n",
    "    if item not in new:\n",
    "        new.append(item)\n",
    "print(new)"
   ]
  },
  {
   "cell_type": "code",
   "execution_count": 4,
   "id": "18f5bdd4",
   "metadata": {},
   "outputs": [
    {
     "name": "stdout",
     "output_type": "stream",
     "text": [
      "HELLO\n"
     ]
    }
   ],
   "source": [
    "# Write a program that accepts sequence of lines as input and prints the lines after making all characters in the sentence capitalized.\n",
    "\n",
    "s=input()\n",
    "s=s.upper()\n",
    "print(s)"
   ]
  },
  {
   "cell_type": "code",
   "execution_count": null,
   "id": "a2d66ab2",
   "metadata": {},
   "outputs": [
    {
     "data": {
      "text/plain": [
       "'WORLD'"
      ]
     },
     "execution_count": 9,
     "metadata": {},
     "output_type": "execute_result"
    }
   ],
   "source": [
    "# Write a function(preLetterCase) that accepts two parameters ( a string ,and a letter). The function must return the string with all characters before the first instance of the letter converted to lowercase and all other characters converted to uppercase. Hence, if the specified letter is the first character of the string then the entire string will be converted to uppercase. The new string should be returned by the function.\n",
    "\n",
    "def preLetterCase(s,letter):\n",
    "    index=s.lower().find(letter.lower())\n",
    "    if index==-1:\n",
    "        return s.lower()\n",
    "    elif index==0:\n",
    "        return s.upper()\n",
    "    else:\n",
    "        return s[:index].lower()+s[index:].upper()\n",
    "\n",
    "\n",
    "preLetterCase(\"world\",'w')"
   ]
  },
  {
   "cell_type": "code",
   "execution_count": 11,
   "id": "dd2d71a9",
   "metadata": {},
   "outputs": [
    {
     "name": "stdout",
     "output_type": "stream",
     "text": [
      "5.0\n"
     ]
    }
   ],
   "source": [
    "# Write a program to calculate the hypotenuse of a right angled triangle\n",
    "\n",
    "import math\n",
    "\n",
    "base=int(input())\n",
    "height=int(input())\n",
    "\n",
    "hypotenuse=math.sqrt(base**2+height**2)\n",
    "\n",
    "print(hypotenuse)"
   ]
  },
  {
   "cell_type": "code",
   "execution_count": 14,
   "id": "9ce5733f",
   "metadata": {},
   "outputs": [
    {
     "name": "stdout",
     "output_type": "stream",
     "text": [
      "ID: 12\n",
      "Name: sreethan\n",
      "class: CSM\n"
     ]
    }
   ],
   "source": [
    "# Write a Python class named Student with two attributes student_id, student_name. Add a new attribute student_class. Create a function to display the entire attribute and their values in Student class.\n",
    "\n",
    "class student:\n",
    "    def __init__(self,student_id,student_name):\n",
    "        self.student_name=student_name\n",
    "        self.student_id=student_id\n",
    "\n",
    "    def add_class(self,student_class):\n",
    "        self.student_class=student_class\n",
    "\n",
    "    def display(self):\n",
    "        print(\"ID:\",self.student_id)\n",
    "        print(\"Name:\",self.student_name)\n",
    "        print(\"class:\",self.student_class)\n",
    "\n",
    "obj=student(12,\"sreethan\")\n",
    "obj.add_class(\"CSM\")\n",
    "obj.display()"
   ]
  },
  {
   "cell_type": "code",
   "execution_count": 17,
   "id": "2776ab38",
   "metadata": {},
   "outputs": [
    {
     "name": "stdout",
     "output_type": "stream",
     "text": [
      "The number of Puppies:130\n",
      "The number of Kittens:165\n",
      "The number of Birds:72\n",
      "The number of Fish:323\n",
      "The number of Hamsters:142\n",
      "The number of Mice:20\n",
      "The number of Snakes:53\n"
     ]
    }
   ],
   "source": [
    "# Write a program that tries to accumulate sum of values based on the input in some dictionaries. \n",
    "\n",
    "di = [{\"Puppies\": 17, 'Kittens': 9, \"Birds\": 23, 'Fish': 90, \"Hamsters\": 49}, {\"Puppies\": 23, \"Birds\": 29, \"Fish\": 20, \"Mice\": 20, \"Snakes\": 7}, {\"Fish\": 203, \"Hamsters\": 93, \"Snakes\": 25, \"Kittens\": 89}, {\"Birds\": 20, \"Puppies\": 90, \"Snakes\": 21, \"Fish\": 10, \"Kittens\": 67}]\n",
    "\n",
    "result={}\n",
    "for d in di:\n",
    "    for key,value in d.items():\n",
    "        result[key]=result.get(key,0)+value\n",
    "\n",
    "for animal,total in result.items():\n",
    "    print(f\"The number of {animal}:{total}\")"
   ]
  },
  {
   "cell_type": "code",
   "execution_count": 18,
   "id": "12151a53",
   "metadata": {},
   "outputs": [
    {
     "name": "stdout",
     "output_type": "stream",
     "text": [
      "0\n",
      "100\n"
     ]
    }
   ],
   "source": [
    "# Define a class named Shape and its subclass Square. The Square class has an init function which takes a length as argument. Both classes have a area function which can print the area of the shape where Shape's area is 0 by default.\n",
    "\n",
    "class Shape:\n",
    "    def area(self):\n",
    "        return 0\n",
    "\n",
    "\n",
    "class Square(Shape):\n",
    "    def __init__(self,side):\n",
    "        self.side=side \n",
    "\n",
    "    def area(self):\n",
    "        return self.side**2\n",
    "\n",
    "s=Shape()\n",
    "print(s.area())\n",
    "\n",
    "sq=Square(10)\n",
    "print(sq.area())"
   ]
  },
  {
   "cell_type": "code",
   "execution_count": null,
   "id": "48c44045",
   "metadata": {},
   "outputs": [],
   "source": [
    "# Python OOPs (5 challenges)\n",
    " \n",
    "# 1. Bank Account Class\n",
    " \n",
    "# Attributes:\n",
    " \n",
    "# * `balance` → stores the current money in the account\n",
    "# * `owner` (optional) → name of account holder\n",
    " \n",
    "# Methods:\n",
    " \n",
    "# * `deposit(amount)` → adds money to balance\n",
    "# * `withdraw(amount)` → subtracts money if enough funds\n",
    "# * `get_balance()` → returns balance\n",
    " \n",
    "# Example:\n",
    " \n",
    "# ```python\n",
    "# acc = BankAccount(100)   # initial balance = 100\n",
    "# acc.deposit(50)          # balance = 150\n",
    "# acc.withdraw(30)         # balance = 120\n",
    "# print(acc.get_balance())\n",
    "# ```\n",
    " \n",
    "# Output:\n",
    " \n",
    "# ```\n",
    "# Balance: 120\n",
    "# ```\n",
    " \n",
    "# ---\n",
    " \n",
    "# 2. Student Class with Average\n",
    " \n",
    "# Attributes:\n",
    " \n",
    "# * `name` → student name\n",
    "# * `marks` → list of student marks `[90, 80, 85]`\n",
    " \n",
    "# Methods:\n",
    " \n",
    "# * `get_average()` → returns average marks\n",
    "# * `add_mark(mark)` → add new score\n",
    "# * `get_highest()` → return highest mark\n",
    "# * `get_lowest()` → return lowest mark\n",
    " \n",
    "# Example:\n",
    " \n",
    "# ```python\n",
    "# s = Student(\"Tom\", [90, 80, 85])\n",
    "# print(s.get_average())   # (90+80+85)/3 = 85.0\n",
    "# s.add_mark(95)           # marks = [90,80,85,95]\n",
    "# print(s.get_highest())   # 95\n",
    "# ```\n",
    " \n",
    "# Output:\n",
    " \n",
    "# ```\n",
    "# 85.0\n",
    "# 95\n",
    "# ```\n",
    " \n",
    "# ---\n",
    " \n",
    "# 3. Employee Bonus System\n",
    " \n",
    "# Attributes:\n",
    " \n",
    "# * `name` → employee name\n",
    "# * `salary` → base salary\n",
    "# * `role` → role of employee (e.g., Manager, Developer, Intern)\n",
    " \n",
    "# Methods:\n",
    " \n",
    "# * `bonus()` → calculates bonus depending on role:\n",
    " \n",
    "#   * Manager → 20% of salary\n",
    "#   * Developer → 10% of salary\n",
    "#   * Intern → 5% of salary\n",
    " \n",
    "# Example:\n",
    " \n",
    "# ```python\n",
    "# m = Manager(\"Alice\", 50000)\n",
    "# print(m.bonus())\n",
    "# ```\n",
    " \n",
    "# Output:\n",
    " \n",
    "# ```\n",
    "# 10000\n",
    "# ```\n",
    " \n",
    "# ---\n",
    " \n",
    "# 4. Shape Area Calculator\n",
    " \n",
    "# Base Class (Shape):\n",
    " \n",
    "# *Attribute: `name`\n",
    "# *Method: `area()` → to be overridden by subclasses\n",
    " \n",
    "# Subclasses:\n",
    " \n",
    "# * `Circle(radius)` → area = π × r²\n",
    "# * `Rectangle(width, height)` → area = width × height\n",
    " \n",
    "# Example:\n",
    " \n",
    "# ```python\n",
    "# c = Circle(7)\n",
    "# print(c.area())\n",
    "# r = Rectangle(4, 5)\n",
    "# print(r.area())\n",
    "# ```\n",
    " \n",
    "# Output:\n",
    " \n",
    "# ```\n",
    "# 153.94\n",
    "# 20\n",
    "# ```\n",
    " \n",
    "# ---\n",
    " \n",
    "# 5. E-commerce Order Class\n",
    " \n",
    "# Attributes:\n",
    " \n",
    "# * `items` → dictionary of items `{name: price}`\n",
    " \n",
    "# Methods:\n",
    " \n",
    "# * `add(item, price)` → adds an item to order\n",
    "# * `remove(item)` → removes item\n",
    "# * `calculate_total()` → returns total price of all items\n",
    "# * `show_items()` → lists all items in order\n",
    " \n",
    "# Example:\n",
    " \n",
    "# ```python\n",
    "# order = Order()\n",
    "# order.add(\"Shirt\", 500)\n",
    "# order.add(\"Shoes\", 1500)\n",
    "# print(order.calculate_total())\n",
    "# ```\n",
    " \n",
    "# Output:\n",
    " \n",
    "# ```\n",
    "# Total = 2000\n",
    "# ```\n",
    " "
   ]
  },
  {
   "cell_type": "code",
   "execution_count": 3,
   "id": "0b38842f",
   "metadata": {},
   "outputs": [
    {
     "name": "stdout",
     "output_type": "stream",
     "text": [
      "[2, 3, 5, 7, 11, 13, 17, 19]\n"
     ]
    }
   ],
   "source": [
    "# 1. Prime Number Finder\n",
    "# Function that returns all prime numbers up to `n`.\n",
    "# Input: `n = 20`\n",
    "# Output: `[2, 3, 5, 7, 11, 13, 17, 19]`\n",
    "\n",
    "def prime(n):\n",
    "    primes=[]\n",
    "    for num in range(2,n+1):\n",
    "        for i in range(2,num):\n",
    "            if num%i==0:\n",
    "                break\n",
    "        else:\n",
    "            primes.append(num)\n",
    "    return primes\n",
    "\n",
    "print(prime(20))"
   ]
  },
  {
   "cell_type": "code",
   "execution_count": 8,
   "id": "c9398569",
   "metadata": {},
   "outputs": [
    {
     "name": "stdout",
     "output_type": "stream",
     "text": [
      "True\n"
     ]
    }
   ],
   "source": [
    "# 2.Palindrome Checker\n",
    "\n",
    "# Check if a string is palindrome (ignoring spaces & case).\n",
    "# Input: `\"Never odd or even\"`\n",
    "# Output: `True`\n",
    "\n",
    "def palindrome(s):\n",
    "    s=s.replace(\" \",\"\").lower()\n",
    "    reverse=\"\"\n",
    "    for i in range(len(s)-1,-1,-1):\n",
    "        reverse+=s[i]\n",
    "\n",
    "    if s==reverse:\n",
    "        print(\"True\")\n",
    "    else:\n",
    "        print(\"False\")\n",
    "\n",
    "palindrome(\"never odd or even\")"
   ]
  },
  {
   "cell_type": "code",
   "execution_count": 14,
   "id": "1044df64",
   "metadata": {},
   "outputs": [
    {
     "name": "stdout",
     "output_type": "stream",
     "text": [
      "True\n",
      "False\n"
     ]
    }
   ],
   "source": [
    "# 3. Anagram Checker\n",
    "# Function checks if two words are anagrams.\n",
    "# Input: `\"listen\", \"silent\"`\n",
    "# Output: `True`\n",
    "\n",
    "def anagram(s,s1):\n",
    "    s=s.replace(\" \",\"\").lower()\n",
    "    s1=s1.replace(\" \",\"\").lower()\n",
    "\n",
    "    if sorted(s)==sorted(s1):\n",
    "        return True\n",
    "    else:\n",
    "        return False\n",
    "\n",
    "print(anagram(\"listen\",\"silent\"))\n",
    "print(anagram(\"hello\",\"bello\"))\n"
   ]
  },
  {
   "cell_type": "code",
   "execution_count": 20,
   "id": "0083c1ff",
   "metadata": {},
   "outputs": [
    {
     "name": "stdout",
     "output_type": "stream",
     "text": [
      "vowels=2, consonants=3\n"
     ]
    }
   ],
   "source": [
    "# 4. Count Vowels & Consonants\n",
    "#    * Return count of vowels & consonants.\n",
    "#    * Input: `\"hello\"`\n",
    "#    * Output: `Vowels=2, Consonants=3`\n",
    "\n",
    "def vowels_and_consonants(s):\n",
    "    vowels=0\n",
    "    consonants=0\n",
    "    for ch in s.lower():\n",
    "        if ch in 'aeiou':\n",
    "            vowels+=1\n",
    "        else:\n",
    "            consonants+=1\n",
    "    return \"vowels=\"+str(vowels)+\", consonants=\"+str(consonants)\n",
    "\n",
    "print(vowels_and_consonants(\"hello\"))"
   ]
  },
  {
   "cell_type": "code",
   "execution_count": null,
   "id": "1ae8ac3b",
   "metadata": {},
   "outputs": [
    {
     "name": "stdout",
     "output_type": "stream",
     "text": [
      "amazing\n"
     ]
    }
   ],
   "source": [
    "# 5. Longest Word Finder\n",
    "# Return longest word in a sentence.\n",
    "# Input: `\"Python is amazing\"`\n",
    "# Output: `\"amazing\"`\n",
    "\n",
    "def longest_word(s):\n",
    "    words=s.split()\n",
    "    longest=\"\"\n",
    "    count=0\n",
    "\n",
    "    for word in words:\n",
    "       if word.isalpha():\n",
    "          if len(word)>count:\n",
    "            count=len(word)\n",
    "            longest=word\n",
    "\n",
    "    return longest\n",
    "\n",
    "print(longest_word(\"Python is amazing\"))\n",
    "\n",
    "\n"
   ]
  },
  {
   "cell_type": "code",
   "execution_count": 27,
   "id": "cc8bfcc5",
   "metadata": {},
   "outputs": [
    {
     "name": "stdout",
     "output_type": "stream",
     "text": [
      "0K79|]{Gd\n"
     ]
    }
   ],
   "source": [
    "# 1. Random Password Generator (`random`, `string`)\n",
    "# * Input: `length=6`\n",
    "# * Output: `\"aB9@xQ\"`\n",
    "\n",
    "import random,string\n",
    "\n",
    "def generate_password(length):\n",
    "    password=\"\"\n",
    "    characters=string.ascii_letters+string.digits+string.punctuation\n",
    "    for _ in range(length):\n",
    "        password+=random.choice(characters)\n",
    "    return password\n",
    "\n",
    "print(generate_password(9))"
   ]
  },
  {
   "cell_type": "code",
   "execution_count": 35,
   "id": "b814075d",
   "metadata": {},
   "outputs": [
    {
     "name": "stdout",
     "output_type": "stream",
     "text": [
      "5.0\n",
      "120\n",
      "0.49999999999999994\n",
      "0.8660254037844387\n"
     ]
    }
   ],
   "source": [
    "# 2. Simple Calculator with `math`\n",
    "# * Perform sqrt, factorial, sin, cos.\n",
    "# * Input: `sqrt(25)`\n",
    "# * Output: `5.0`\n",
    "\n",
    "import math\n",
    "class calculator():\n",
    "    def sqrt(self,n):\n",
    "        return math.sqrt(n)\n",
    "\n",
    "    def factorial(self,n):\n",
    "        return math.factorial(n)\n",
    "    \n",
    "    def sin(self,n):\n",
    "        return math.sin(math.radians(n))\n",
    "\n",
    "    def cos(self,n):\n",
    "        return math.cos(math.radians(n))\n",
    "    \n",
    "cal=calculator()\n",
    "print(cal.sqrt(25))\n",
    "print(cal.factorial(5))\n",
    "print(cal.sin(30))\n",
    "print(cal.cos(30))\n",
    "    "
   ]
  },
  {
   "cell_type": "code",
   "execution_count": 37,
   "id": "406a9c72",
   "metadata": {},
   "outputs": [
    {
     "name": "stdout",
     "output_type": "stream",
     "text": [
      "{'cat': 2, 'dog': 1}\n"
     ]
    }
   ],
   "source": [
    "# 3. Word Frequency Counter (`collections.Counter`)\n",
    "# * Input: `\"cat dog cat\"`\n",
    "# * Output: `{'cat':2,'dog':1}`\n",
    "\n",
    "from collections import Counter\n",
    "\n",
    "def Frequency_counter(s):\n",
    "    words=s.split()\n",
    "    output=Counter(words)\n",
    "    return dict(output)\n",
    "\n",
    "print(Frequency_counter(\"cat dog cat\"))"
   ]
  },
  {
   "cell_type": "code",
   "execution_count": 5,
   "id": "3188930e",
   "metadata": {},
   "outputs": [
    {
     "name": "stdout",
     "output_type": "stream",
     "text": [
      "weather:rainy, Temp:25°C\n"
     ]
    }
   ],
   "source": [
    "# 4. Weather Simulator (`random`)\n",
    "#    * Input: None\n",
    "#    * Output: `\"Weather: Sunny, Temp: 32°C\"`\n",
    "\n",
    "import random\n",
    "\n",
    "def weather_simulator():\n",
    "    conditions=[\"sunny\",\"rainy\",\"cloudy\",\"stormy\",\"windy\",\"snowy\"]\n",
    "\n",
    "    weather=random.choice(conditions)\n",
    "\n",
    "    temp=random.randint(10,40)\n",
    "\n",
    "    return f\"weather:{weather}, Temp:{temp}°C\"\n",
    "\n",
    "print(weather_simulator())\n",
    "\n"
   ]
  },
  {
   "cell_type": "code",
   "execution_count": 8,
   "id": "01eea813",
   "metadata": {},
   "outputs": [
    {
     "name": "stdout",
     "output_type": "stream",
     "text": [
      "5\n",
      "4\n",
      "3\n",
      "2\n",
      "1\n",
      "Time's up!\n"
     ]
    }
   ],
   "source": [
    "# 5. Timer Program (`time`)\n",
    "# * Input: `countdown(5)`\n",
    "# * Output:\n",
    "#   5  \n",
    "#   4  \n",
    "#   3  \n",
    "#   2  \n",
    "#   1  \n",
    "#   Time’s up!\n",
    "\n",
    "import time \n",
    "\n",
    "def countdown(n):\n",
    "    while n>0:\n",
    "        print(n)\n",
    "        time.sleep(1)\n",
    "        n-=1\n",
    "    print(\"Time's up!\")\n",
    "\n",
    "\n",
    "countdown(5)"
   ]
  },
  {
   "cell_type": "code",
   "execution_count": 15,
   "id": "d338bf79",
   "metadata": {},
   "outputs": [
    {
     "name": "stdout",
     "output_type": "stream",
     "text": [
      "Balance:120\n"
     ]
    }
   ],
   "source": [
    "# 1. Bank Account Class\n",
    "# Attributes:\n",
    "# * `balance` → stores the current money in the account\n",
    "# * `owner` (optional) → name of account holder\n",
    " \n",
    "# Methods:\n",
    " \n",
    "# * `deposit(amount)` → adds money to balance\n",
    "# * `withdraw(amount)` → subtracts money if enough funds\n",
    "# * `get_balance()` → returns balance\n",
    " \n",
    "# Example:\n",
    " \n",
    "# ```python\n",
    "# acc = BankAccount(100)   # initial balance = 100\n",
    "# acc.deposit(50)          # balance = 150\n",
    "# acc.withdraw(30)         # balance = 120\n",
    "# print(acc.get_balance())\n",
    "# ```\n",
    " \n",
    "# Output:\n",
    " \n",
    "# ```\n",
    "# Balance: 120\n",
    "# ```\n",
    "\n",
    "class BankAccount():\n",
    "    def __init__(self,balance):\n",
    "        self.balance=balance\n",
    "\n",
    "    def deposit(self,amount):\n",
    "        self.amount=amount\n",
    "        self.balance+=amount\n",
    "        return self.balance\n",
    "\n",
    "    def withdraw(self,amount):\n",
    "        if amount<=self.balance:\n",
    "            self.balance-=amount\n",
    "        else:\n",
    "            print(\"insufficient funds\")\n",
    "        return self.balance\n",
    "    \n",
    "    def get_balance(self):\n",
    "        return f\"Balance:{self.balance}\"\n",
    "    \n",
    "acc=BankAccount(100)\n",
    "acc.deposit(50)\n",
    "acc.withdraw(30)\n",
    "print(acc.get_balance())"
   ]
  },
  {
   "cell_type": "code",
   "execution_count": 22,
   "id": "5db6d0ff",
   "metadata": {},
   "outputs": [
    {
     "name": "stdout",
     "output_type": "stream",
     "text": [
      "85.0\n",
      "[90, 80, 85, 95]\n",
      "95\n",
      "80\n"
     ]
    }
   ],
   "source": [
    "# 2. Student Class with Average\n",
    " \n",
    "# Attributes:\n",
    "# * `name` → student name\n",
    "# * `marks` → list of student marks `[90, 80, 85]`\n",
    " \n",
    "# Methods:\n",
    "# * `get_average()` → returns average marks\n",
    "# * `add_mark(mark)` → add new score\n",
    "# * `get_highest()` → return highest mark\n",
    "# * `get_lowest()` → return lowest mark\n",
    " \n",
    "# Example:\n",
    "# ```python\n",
    "# s = Student(\"Tom\", [90, 80, 85])\n",
    "# print(s.get_average())   # (90+80+85)/3 = 85.0\n",
    "# s.add_mark(95)           # marks = [90,80,85,95]\n",
    "# print(s.get_highest())   # 95\n",
    "# ```\n",
    " \n",
    "# Output:\n",
    "# ```\n",
    "# 85.0\n",
    "# 95\n",
    "# ```\n",
    "\n",
    "class StudentClass:\n",
    "    def __init__(self,name,marks):\n",
    "        self.name=name\n",
    "        self.marks=marks\n",
    "    \n",
    "    def get_average(self):\n",
    "        sum=0\n",
    "        for i in self.marks:\n",
    "            sum+=i\n",
    "        return sum/len(self.marks)\n",
    "    \n",
    "    def add_mark(self,mark):\n",
    "        self.marks.append(mark)\n",
    "        return self.marks\n",
    "    \n",
    "    def get_highest(self):\n",
    "        return max(self.marks)\n",
    "    \n",
    "    def get_lowest(self):\n",
    "        return min(self.marks)\n",
    "\n",
    "s=StudentClass(\"Tom\",[90, 80, 85])\n",
    "print(s.get_average())  \n",
    "print(s.add_mark(95))         \n",
    "print(s.get_highest())\n",
    "print(s.get_lowest())\n",
    "\n",
    "    "
   ]
  },
  {
   "cell_type": "code",
   "execution_count": 27,
   "id": "c3fabc07",
   "metadata": {},
   "outputs": [
    {
     "name": "stdout",
     "output_type": "stream",
     "text": [
      "10000.0\n",
      "4400.0\n",
      "750.0\n"
     ]
    }
   ],
   "source": [
    "# 3. Employee Bonus System\n",
    "# Attributes:\n",
    "# * `name` → employee name\n",
    "# * `salary` → base salary\n",
    "# * `role` → role of employee (e.g., Manager, Developer, Intern)\n",
    " \n",
    "# Methods:\n",
    "# * `bonus()` → calculates bonus depending on role:\n",
    "#   * Manager → 20% of salary\n",
    "#   * Developer → 10% of salary\n",
    "#   * Intern → 5% of salary\n",
    " \n",
    "# Example:\n",
    "# ```python\n",
    "# m = Manager(\"Alice\", 50000)\n",
    "# print(m.bonus())\n",
    "# ```\n",
    "# Output:\n",
    "# ```\n",
    "# 10000\n",
    "# ```\n",
    "# ---\n",
    "\n",
    "class Employee_Bonus:\n",
    "    def __init__(self,name,salary,role):\n",
    "        self.name=name\n",
    "        self.salary=salary\n",
    "        self.role=role\n",
    "    \n",
    "    def bonus(self):\n",
    "        self.bonus=0\n",
    "        if self.role==\"Manager\":\n",
    "            return 0.2*self.salary\n",
    "        elif self.role==\"Developer\":\n",
    "            return 0.1*self.salary\n",
    "        elif self.role==\"Intern\":\n",
    "            return 0.05*self.salary\n",
    "        else:\n",
    "            return 0\n",
    "\n",
    "e=Employee_Bonus(\"Alice\",50000,\"Manager\")\n",
    "print(e.bonus())\n",
    "\n",
    "d=Employee_Bonus(\"Bob\",44000,\"Developer\")\n",
    "print(d.bonus())\n",
    "\n",
    "i=Employee_Bonus(\"Charlie\",15000,\"Intern\")\n",
    "print(i.bonus())\n"
   ]
  },
  {
   "cell_type": "code",
   "execution_count": 31,
   "id": "564da077",
   "metadata": {},
   "outputs": [
    {
     "name": "stdout",
     "output_type": "stream",
     "text": [
      "153.93804002589985\n",
      "20\n"
     ]
    }
   ],
   "source": [
    "# 4. Shape Area Calculator\n",
    "# Base Class (Shape):\n",
    "# *Attribute: `name`\n",
    "# *Method: `area()` → to be overridden by subclasses\n",
    " \n",
    "# Subclasses:\n",
    "# * `Circle(radius)` → area = π × r²\n",
    "# * `Rectangle(width, height)` → area = width × height\n",
    " \n",
    "# Example:\n",
    "# ```python\n",
    "# c = Circle(7)\n",
    "# print(c.area())\n",
    "# r = Rectangle(4, 5)\n",
    "# print(r.area())\n",
    "# ```\n",
    " \n",
    "# Output:\n",
    "# ```\n",
    "# 153.94\n",
    "# 20\n",
    "# ```\n",
    "\n",
    "import math\n",
    "class Shape():\n",
    "    def __init__(self,name):\n",
    "        self.name=name\n",
    "\n",
    "class Circle(Shape):\n",
    "    def __init__(self,radius):\n",
    "        self.radius=radius\n",
    "    \n",
    "    def area(self):\n",
    "        return math.pi*(self.radius**2)\n",
    "\n",
    "\n",
    "class Rectangle():\n",
    "    def __init__(self,width,height):\n",
    "        self.width=width\n",
    "        self.height=height\n",
    "\n",
    "    def area(self):\n",
    "        return self.width*self.height\n",
    "\n",
    "c=Circle(7)\n",
    "print(c.area())\n",
    "r=Rectangle(4,5)\n",
    "print(r.area())\n"
   ]
  },
  {
   "cell_type": "code",
   "execution_count": 36,
   "id": "e7d9a08c",
   "metadata": {},
   "outputs": [
    {
     "name": "stdout",
     "output_type": "stream",
     "text": [
      "Total= 2000\n"
     ]
    }
   ],
   "source": [
    "# 5. E-commerce Order Class\n",
    "# Attributes:\n",
    "# * `items` → dictionary of items `{name: price}`\n",
    " \n",
    "# Methods:\n",
    "# * `add(item, price)` → adds an item to order\n",
    "# * `remove(item)` → removes item\n",
    "# * `calculate_total()` → returns total price of all items\n",
    "# * `show_items()` → lists all items in order\n",
    " \n",
    "# Example:\n",
    "# ```python\n",
    "# order = Order()\n",
    "# order.add(\"Shirt\", 500)\n",
    "# order.add(\"Shoes\", 1500)\n",
    "# print(order.calculate_total())\n",
    "# ```\n",
    " \n",
    "# Output:\n",
    "# ```\n",
    "# Total = 2000\n",
    "\n",
    "class Order():\n",
    "    def __init__(self):\n",
    "        self.items={}\n",
    "    \n",
    "    def add_item(self,item,price):\n",
    "        self.items[item]=price\n",
    "    \n",
    "    def remove_item(self,item):\n",
    "        if item in self.items:\n",
    "            del self.items[item]\n",
    "        else:\n",
    "            print(\"Not found\")\n",
    "    \n",
    "    def calculate_total(self):\n",
    "        return sum(self.items.values())\n",
    "    \n",
    "    def show_items(self):\n",
    "        if not self.items:\n",
    "            print(\"no items\")\n",
    "        else:\n",
    "            for item,price in self.items.items():\n",
    "                print(f\"{item}:{price}\")\n",
    "\n",
    "order = Order()\n",
    "order.add_item(\"Shirt\", 500)\n",
    "order.add_item(\"Shoes\", 1500)\n",
    "print(\"Total=\",order.calculate_total())\n",
    "                "
   ]
  },
  {
   "cell_type": "code",
   "execution_count": null,
   "id": "d74edac9",
   "metadata": {},
   "outputs": [],
   "source": []
  }
 ],
 "metadata": {
  "kernelspec": {
   "display_name": "Python 3",
   "language": "python",
   "name": "python3"
  },
  "language_info": {
   "codemirror_mode": {
    "name": "ipython",
    "version": 3
   },
   "file_extension": ".py",
   "mimetype": "text/x-python",
   "name": "python",
   "nbconvert_exporter": "python",
   "pygments_lexer": "ipython3",
   "version": "3.11.13"
  }
 },
 "nbformat": 4,
 "nbformat_minor": 5
}
