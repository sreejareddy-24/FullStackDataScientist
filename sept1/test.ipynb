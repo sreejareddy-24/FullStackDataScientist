{
 "cells": [
  {
   "cell_type": "code",
   "execution_count": 1,
   "id": "4551f3d4",
   "metadata": {},
   "outputs": [
    {
     "name": "stdout",
     "output_type": "stream",
     "text": [
      "27\n"
     ]
    }
   ],
   "source": [
    "a=24\n",
    "b=3\n",
    "print(a+b)"
   ]
  },
  {
   "cell_type": "code",
   "execution_count": 2,
   "id": "f0b23cea",
   "metadata": {},
   "outputs": [
    {
     "name": "stdout",
     "output_type": "stream",
     "text": [
      "4 2\n"
     ]
    }
   ],
   "source": [
    "#1.You are developing a small calculator app. Write a program that takes two numbers from the user and swaps them without using a third variable, so users can correct their input order.\n",
    "\n",
    "a=int(input(\"Enter the first number\"))\n",
    "b=int(input(\"Enter the second number\"))\n",
    "\n",
    "a,b=b,a\n",
    "print(a,b)\n",
    "\n"
   ]
  },
  {
   "cell_type": "code",
   "execution_count": 3,
   "id": "cd3e2212",
   "metadata": {},
   "outputs": [
    {
     "name": "stdout",
     "output_type": "stream",
     "text": [
      "nogard\n"
     ]
    }
   ],
   "source": [
    "#2.A library wants to build a feature to display book titles backwards for a “mirror view” theme. Write a program that reverses a given string without using slicing.\n",
    "\n",
    "str=input(\"Enter the title\")\n",
    "rev_str=\"\"\n",
    "\n",
    "for i in range(len(str)-1,-1,-1):\n",
    "    rev_str+=str[i]\n",
    "\n",
    "print(rev_str)\n"
   ]
  },
  {
   "cell_type": "code",
   "execution_count": 4,
   "id": "2e637e07",
   "metadata": {},
   "outputs": [
    {
     "ename": "TypeError",
     "evalue": "'str' object is not callable",
     "output_type": "error",
     "traceback": [
      "\u001b[31m---------------------------------------------------------------------------\u001b[39m",
      "\u001b[31mTypeError\u001b[39m                                 Traceback (most recent call last)",
      "\u001b[36mCell\u001b[39m\u001b[36m \u001b[39m\u001b[32mIn[4]\u001b[39m\u001b[32m, line 5\u001b[39m\n\u001b[32m      1\u001b[39m \u001b[38;5;66;03m#3. An ATM machine verifies special numbers before processing transactions. Write a program to check if a number entered by the customer is an Armstrong number.\u001b[39;00m\n\u001b[32m      3\u001b[39m num = \u001b[38;5;28mint\u001b[39m(\u001b[38;5;28minput\u001b[39m(\u001b[33m\"\u001b[39m\u001b[33mEnter a number: \u001b[39m\u001b[33m\"\u001b[39m))\n\u001b[32m----> \u001b[39m\u001b[32m5\u001b[39m n = \u001b[38;5;28mlen\u001b[39m(\u001b[38;5;28mstr\u001b[39m(num))   \n\u001b[32m      6\u001b[39m total = \u001b[32m0\u001b[39m\n\u001b[32m      7\u001b[39m temp = num\n",
      "\u001b[31mTypeError\u001b[39m: 'str' object is not callable"
     ]
    }
   ],
   "source": [
    "#3. An ATM machine verifies special numbers before processing transactions. Write a program to check if a number entered by the customer is an Armstrong number.\n",
    "\n",
    "num = int(input(\"Enter a number: \"))\n",
    "\n",
    "n = len(str(num))   \n",
    "total = 0\n",
    "temp = num\n",
    "\n",
    "while temp > 0:\n",
    "    digit = temp % 10\n",
    "    total += digit ** n\n",
    "    temp //= 10\n",
    "\n",
    "if total == num:\n",
    "    print(\"Yes, Armstrong number\")\n",
    "else:\n",
    "    print(\"No, not an Armstrong number\")\n"
   ]
  },
  {
   "cell_type": "code",
   "execution_count": 5,
   "id": "d5077284",
   "metadata": {},
   "outputs": [
    {
     "name": "stdout",
     "output_type": "stream",
     "text": [
      "0 0\n"
     ]
    }
   ],
   "source": [
    "#4. A language learning app wants to check how many vowels and consonants a user has typed in a practice sentence. Write a program to count vowels and consonants in a given sentence.\n",
    "\n",
    "s=input(\"enter the sentence\")\n",
    "vowels=0\n",
    "consonants=0\n",
    "a=len(s)\n",
    "\n",
    "for i in range(a):\n",
    "    if s[i].isalpha():\n",
    "        if s[i] in \"aeiou\":\n",
    "            vowels+=1\n",
    "        else:\n",
    "            consonants+=1\n",
    "\n",
    "print(vowels,consonants)"
   ]
  },
  {
   "cell_type": "code",
   "execution_count": null,
   "id": "999e7489",
   "metadata": {},
   "outputs": [
    {
     "name": "stdout",
     "output_type": "stream",
     "text": [
      "4*1=4\n",
      "4*2=8\n",
      "4*3=12\n",
      "4*4=16\n",
      "4*5=20\n",
      "4*6=24\n",
      "4*7=28\n",
      "4*8=32\n",
      "4*9=36\n",
      "4*10=40\n"
     ]
    }
   ],
   "source": [
    "#5.In an e-learning platform, when a student inputs a number, the system should generate its multiplication table (up to 10) as practice material. Write a program to do this.\n",
    "\n",
    "n=int(input())\n",
    "for i in range(1,11):\n",
    "    print(f\"{n}*{i}={n*i}\" )\n",
    "\n",
    "\n"
   ]
  },
  {
   "cell_type": "code",
   "execution_count": null,
   "id": "b06ae844",
   "metadata": {},
   "outputs": [
    {
     "name": "stdout",
     "output_type": "stream",
     "text": [
      "2005 is not a leap year\n"
     ]
    }
   ],
   "source": [
    "#6. A travel company checks leap years to calculate special discounts on leap day. Write a program to check if a given year is a leap year.\n",
    "\n",
    "year=int(input())\n",
    "\n",
    "if year%400==0:\n",
    "    print(f\"{year} is a leap year\")\n",
    "elif year%100==0:\n",
    "    print(f\"{year} is not a leap year\")\n",
    "elif year%4==0:\n",
    "    print(f\"{year} is a leap year\")\n",
    "else:\n",
    "    print(f\"{year} is not a leap year\")\n",
    "\n"
   ]
  },
  {
   "cell_type": "code",
   "execution_count": null,
   "id": "e4449427",
   "metadata": {},
   "outputs": [
    {
     "name": "stdout",
     "output_type": "stream",
     "text": [
      "66\n"
     ]
    }
   ],
   "source": [
    "#7. A gaming app wants to determine the highest score out of 5 attempts. Write a program to take 5 numbers as input and print the largest.\n",
    "\n",
    "n1=int(input())\n",
    "n2=int(input())\n",
    "n3=int(input())\n",
    "n4=int(input())\n",
    "n5=int(input())\n",
    "\n",
    "highest=max(n1,n2,n3,n4,n5)\n",
    "\n",
    "print(highest)\n",
    "\n",
    "\n"
   ]
  },
  {
   "cell_type": "code",
   "execution_count": 6,
   "id": "a7865c94",
   "metadata": {},
   "outputs": [
    {
     "name": "stdout",
     "output_type": "stream",
     "text": [
      "Yes, The string is palindrome\n"
     ]
    }
   ],
   "source": [
    "#8. A healthcare app stores patient IDs and checks if they are palindromes for easy recall. Write a program that checks if a given string ID is a palindrome.\n",
    "\n",
    "s=input(\"Enter a string\")\n",
    "reversed_str=\"\"\n",
    "\n",
    "for i in range(len(s)-1,-1,-1):\n",
    "    reversed_str+=s[i]\n",
    "\n",
    "if s==reversed_str:\n",
    "    print(\"Yes, The string is palindrome\")\n",
    "else:\n",
    "    print(\"No, The string is not palindrome\")"
   ]
  },
  {
   "cell_type": "code",
   "execution_count": null,
   "id": "94fe8668",
   "metadata": {},
   "outputs": [
    {
     "name": "stdout",
     "output_type": "stream",
     "text": [
      "24\n"
     ]
    }
   ],
   "source": [
    "#9.A factory wants to calculate the number of ways workers can be arranged in a line. Write a program to find the factorial of a number.\n",
    "\n",
    "n=int(input(\"Enter a number\"))\n",
    "\n",
    "for i in range(n-1,0,-1):\n",
    "    n*=i\n",
    "print(n)"
   ]
  },
  {
   "cell_type": "code",
   "execution_count": null,
   "id": "111a115a",
   "metadata": {},
   "outputs": [
    {
     "name": "stdout",
     "output_type": "stream",
     "text": [
      "15\n",
      "30\n",
      "45\n",
      "60\n",
      "75\n",
      "90\n"
     ]
    }
   ],
   "source": [
    "#10.A company gives rewards for numbers divisible by both 3 and 5. Write a program to print all numbers between 1 and 100 that qualify.\n",
    "\n",
    "for i in range(2,100):\n",
    "    if i%3==0 and i%5==0:\n",
    "        print(i)"
   ]
  },
  {
   "cell_type": "code",
   "execution_count": null,
   "id": "562dda71",
   "metadata": {},
   "outputs": [
    {
     "name": "stdout",
     "output_type": "stream",
     "text": [
      "49 is not prime\n"
     ]
    }
   ],
   "source": [
    "#11.A security system checks whether the entered code is prime for extra authentication. Write a program to check if a given number is prime\n",
    "\n",
    "n=int(input(\"Enter the code\"))\n",
    "\n",
    "if n<=1:\n",
    "    print(n is not prime)\n",
    "\n",
    "else:\n",
    "    is_prime=True\n",
    "    for i in range(2,n):\n",
    "        if n%i==0:\n",
    "            is_prime=False\n",
    "            break\n",
    "\n",
    "    if is_prime:\n",
    "        print(n,\"is prime\")\n",
    "    else:\n",
    "        print(n,\"is not prime\")"
   ]
  },
  {
   "cell_type": "code",
   "execution_count": null,
   "id": "7ccf1366",
   "metadata": {},
   "outputs": [
    {
     "name": "stdout",
     "output_type": "stream",
     "text": [
      "[22, 33, 44, 55, 66, 77]\n",
      "second highest marks are: 66\n"
     ]
    }
   ],
   "source": [
    "#12.In a class test, a teacher wants to know the second highest score among students. Write a program to find the second largest number in a list.\n",
    "\n",
    "marks=list(map(int,input(\"Enter the marks of students\").split()))\n",
    "n=len(marks)\n",
    "\n",
    "unique_marks=list(set(marks))\n",
    "unique_marks.sort()\n",
    "\n",
    "print(unique_marks)\n",
    "\n",
    "print(\"second highest marks are:\",unique_marks[-2])"
   ]
  },
  {
   "cell_type": "code",
   "execution_count": null,
   "id": "5e90817c",
   "metadata": {},
   "outputs": [
    {
     "name": "stdout",
     "output_type": "stream",
     "text": [
      "650\n"
     ]
    }
   ],
   "source": [
    "#13.A fitness app counts only even-numbered steps to calculate “balanced walking.” Write a program to find the sum of even numbers from 1 to 50.\n",
    "\n",
    "sum=0\n",
    "for i in range(1,51):\n",
    "    if i%2==0:\n",
    "        sum+=i\n",
    "print(sum)"
   ]
  },
  {
   "cell_type": "code",
   "execution_count": null,
   "id": "3cee575a",
   "metadata": {},
   "outputs": [
    {
     "name": "stdout",
     "output_type": "stream",
     "text": [
      "4 2\n"
     ]
    }
   ],
   "source": [
    "#14.A typing speed test wants to know how many uppercase and lowercase letters a user typed. Write a program to count uppercase and lowercase characters in a string.\n",
    "\n",
    "s=input(\"enter the string\")\n",
    "\n",
    "is_lower=0\n",
    "is_upper=0\n",
    "\n",
    "for ch in s:\n",
    "    if ch.islower():\n",
    "        is_lower+=1\n",
    "    elif ch.isupper():\n",
    "        is_upper+=1\n",
    "\n",
    "print(is_lower,is_upper)"
   ]
  },
  {
   "cell_type": "code",
   "execution_count": null,
   "id": "536817df",
   "metadata": {},
   "outputs": [
    {
     "name": "stdout",
     "output_type": "stream",
     "text": [
      "0 1 1 2 3 "
     ]
    }
   ],
   "source": [
    "#15.A financial tool simulates Fibonacci-like growth in savings. Write a program to generate the Fibonacci sequence up to n terms.\n",
    "\n",
    "n=int(input(\"enter a number\"))\n",
    "\n",
    "a,b=0,1\n",
    "\n",
    "for i in range(n):\n",
    "    print(a,end=\" \")\n",
    "    a,b=b,a+b"
   ]
  },
  {
   "cell_type": "code",
   "execution_count": null,
   "id": "7220ed28",
   "metadata": {},
   "outputs": [
    {
     "name": "stdout",
     "output_type": "stream",
     "text": [
      "yes\n"
     ]
    }
   ],
   "source": [
    "#16.A word puzzle game checks if two words are anagrams (same letters but shuffled). Write a program to check if two strings are anagrams.\n",
    "\n",
    "s1=input(\"Enter the first string\")\n",
    "s2=input(\"Enter the second string\")\n",
    "\n",
    "if sorted(s1.lower())==sorted(s2.lower()):\n",
    "    print(\"yes\")\n",
    "else:\n",
    "    print(\"NO\")"
   ]
  },
  {
   "cell_type": "code",
   "execution_count": null,
   "id": "11106e4e",
   "metadata": {},
   "outputs": [
    {
     "name": "stdout",
     "output_type": "stream",
     "text": [
      "6 is a Perfect Number\n"
     ]
    }
   ],
   "source": [
    "#17.A science experiment needs to verify whether a number is perfect (sum of divisors = number). Write a program to check if a number is a perfect number.\n",
    "\n",
    "num = int(input(\"Enter a number: \"))\n",
    "s = 0\n",
    "\n",
    "for i in range(1, num):\n",
    "    if num % i == 0:\n",
    "        s += i\n",
    "        \n",
    "if s == num:\n",
    "    print(num, \"is a Perfect Number\")\n",
    "else:\n",
    "    print(num, \"is NOT a Perfect Number\")\n"
   ]
  },
  {
   "cell_type": "code",
   "execution_count": null,
   "id": "ebee5630",
   "metadata": {},
   "outputs": [
    {
     "name": "stdout",
     "output_type": "stream",
     "text": [
      "Fail\n"
     ]
    }
   ],
   "source": [
    "# #18.A school report system calculates percentage and assigns grades:\n",
    "# ≥90 → A\n",
    "# ≥75 → B\n",
    "# ≥50 → C\n",
    "# <50 → Fail\n",
    "# Write a program that takes 5 subject marks, calculates percentage, and prints the grade.\n",
    "\n",
    "marks=list(map(int,input(\"Enter the marks in 5 subjects\").split()))\n",
    "total=500\n",
    "obtained= sum(marks)\n",
    "\n",
    "\n",
    "p=(obtained/total)*100\n",
    "\n",
    "if p>=90:\n",
    "    print(\"A\")\n",
    "elif p>=75:\n",
    "    print(\"B\")\n",
    "elif p>=50:\n",
    "    print(\"C\")\n",
    "else:\n",
    "    print(\"Fail\")"
   ]
  },
  {
   "cell_type": "code",
   "execution_count": null,
   "id": "e5998ce8",
   "metadata": {},
   "outputs": [
    {
     "name": "stdout",
     "output_type": "stream",
     "text": [
      "2 3 5 7 11 13 17 19 23 29 31 37 41 43 47 53 59 61 67 71 73 79 83 89 97 "
     ]
    }
   ],
   "source": [
    "#19.A mathematics quiz app generates all prime numbers between 1 and 100. Write a program to print all prime numbers in this range.\n",
    "\n",
    "for i in range(2,100):\n",
    "    for j in range(2,i):\n",
    "        if i%j==0:\n",
    "            break\n",
    "    else:\n",
    "        print(i,end=\" \")"
   ]
  },
  {
   "cell_type": "code",
   "execution_count": null,
   "id": "9ffbf5dd",
   "metadata": {},
   "outputs": [
    {
     "name": "stdout",
     "output_type": "stream",
     "text": [
      "3\n"
     ]
    }
   ],
   "source": [
    "#20.An online editor counts words in an article but doesn’t allow using split(). Write a program to count the number of words in a sentence.\n",
    "\n",
    "s=input(\"Enter a sentence\")\n",
    "words=1\n",
    "\n",
    "for ch in s:\n",
    "    if ch==\" \":\n",
    "        words+=1\n",
    "\n",
    "print(words)"
   ]
  },
  {
   "cell_type": "code",
   "execution_count": null,
   "id": "b193da26",
   "metadata": {},
   "outputs": [
    {
     "name": "stdout",
     "output_type": "stream",
     "text": [
      "1600.0\n"
     ]
    }
   ],
   "source": [
    "# 21. Movie Ticket Discount\n",
    "# A cinema gives a 20% discount if the customer is a student and 10% discount if the customer is a senior citizen (age ≥ 60).\n",
    "# Write a program that takes ticket price, age, and student status (yes/no) as input and prints the final ticket price.\n",
    "\n",
    "age=int(input())\n",
    "ticket=int(input())\n",
    "is_student=True\n",
    "\n",
    "if is_student:\n",
    "    ticket-=(ticket*0.2)\n",
    "    print(ticket)\n",
    "elif age>60:\n",
    "    ticket-=(ticket*0.1)\n",
    "    print(ticket)\n",
    "else:\n",
    "    print(\"the ticket price is\",ticket)\n"
   ]
  },
  {
   "cell_type": "code",
   "execution_count": null,
   "id": "701c946d",
   "metadata": {},
   "outputs": [
    {
     "name": "stdout",
     "output_type": "stream",
     "text": [
      "total amount = 350\n"
     ]
    }
   ],
   "source": [
    "# 22. Shopping Cart Free Delivery\n",
    "\n",
    "# An e-commerce website gives free delivery if the total cart value is more than ₹500. Otherwise, a delivery charge of ₹50 is applied.\n",
    "# Write a program that takes the cart total as input and prints the final amount payable.\n",
    "\n",
    "cart_value=int(input())\n",
    "charge=0\n",
    "\n",
    "if cart_value>500:\n",
    "    print(\"total amount  =\",cart_value)\n",
    "else:\n",
    "    charge=50\n",
    "    print(\"total amount =\",cart_value+charge)"
   ]
  },
  {
   "cell_type": "code",
   "execution_count": null,
   "id": "14c04229",
   "metadata": {},
   "outputs": [
    {
     "name": "stdout",
     "output_type": "stream",
     "text": [
      "A\n"
     ]
    }
   ],
   "source": [
    "# 23. Marks Grading System\n",
    "# A college follows this grading system:\n",
    "# 90–100: A\n",
    "# 75–89: B\n",
    "# 50–74: C\n",
    "# Below 50: Fail\n",
    "# Write a program that takes marks as input and prints the grade.\n",
    "\n",
    "marks=int(input())\n",
    "\n",
    "if marks>=90 and marks<=100:\n",
    "    print(\"A\")\n",
    "elif marks>=75 and marks<90:\n",
    "    print(\"B\")\n",
    "elif marks>=50 and marks<75:\n",
    "    print(\"C\")\n",
    "else:\n",
    "    print(\"Fail\")"
   ]
  },
  {
   "cell_type": "code",
   "execution_count": null,
   "id": "22ebfaa5",
   "metadata": {},
   "outputs": [
    {
     "name": "stdout",
     "output_type": "stream",
     "text": [
      "585.0\n"
     ]
    }
   ],
   "source": [
    "# 24. Restaurant Tip Calculator\n",
    "# A restaurant suggests tips based on the bill:\n",
    "# Less than 500 → 5% tip\n",
    "# 500–1000 → 10% tip\n",
    "# More than 1000 → 15% tip\n",
    "# Write a program that takes the bill amount and prints the tip to be added.\n",
    "\n",
    "bill=int(input())\n",
    "tip=0\n",
    "\n",
    "if bill<500:\n",
    "    tip=0.05*bill\n",
    "    print(tip)\n",
    "elif bill>=500 and bill<1000:\n",
    "    tip=0.1*bill\n",
    "    print(tip)\n",
    "else:\n",
    "    tip=0.15*bill\n",
    "    print(tip)"
   ]
  },
  {
   "cell_type": "code",
   "execution_count": null,
   "id": "993e3b5d",
   "metadata": {},
   "outputs": [
    {
     "name": "stdout",
     "output_type": "stream",
     "text": [
      "6000\n"
     ]
    }
   ],
   "source": [
    "# 25. Gym Membership Plan\n",
    "# A gym charges:\n",
    "# ₹500 per month\n",
    "# ₹2700 for 6 months (discounted)\n",
    "# ₹5000 for 12 months (discounted)\n",
    "# Write a program where the user enters the membership period (months) and the program prints the cheapest option.\n",
    "\n",
    "months=int(input())\n",
    "\n",
    "monthly_cost=months*500\n",
    "six_months_cost=(months//6)*2700+(months%6)*500\n",
    "yearly_cost=(months//12)*5000+(months%12)*500\n",
    "\n",
    "cheapest=min(monthly_cost,six_months_cost,yearly_cost)\n",
    "\n",
    "print(cheapest)"
   ]
  },
  {
   "cell_type": "code",
   "execution_count": null,
   "id": "6f268c53",
   "metadata": {},
   "outputs": [
    {
     "name": "stdout",
     "output_type": "stream",
     "text": [
      "Not eligible to sit for the exam\n"
     ]
    }
   ],
   "source": [
    "# 26. Exam Eligibility\n",
    "# A student must have at least 75% attendance to sit for the exam.\n",
    "# Write a program that takes total classes and classes attended as input and prints whether the student is eligible or not eligible.\n",
    "\n",
    "total_classes=int(input())\n",
    "classes_attended=int(input())\n",
    "\n",
    "p=(classes_attended/total_classes)*100\n",
    "\n",
    "if p>75:\n",
    "    print(\"eligible to sit for the exam \")\n",
    "else:\n",
    "    print(\"Not eligible to sit for the exam\")"
   ]
  },
  {
   "cell_type": "code",
   "execution_count": null,
   "id": "9b16ad37",
   "metadata": {},
   "outputs": [
    {
     "name": "stdout",
     "output_type": "stream",
     "text": [
      "transaction not successfull\n"
     ]
    }
   ],
   "source": [
    "# 27. ATM Withdrawal\n",
    "# An ATM only allows withdrawals in multiples of 100.\n",
    "# Write a program that takes the withdrawal amount and prints whether the transaction is successful or failed.\n",
    "\n",
    "amount_withdrawed=int(input())\n",
    "\n",
    "if  amount_withdrawed%100==0:\n",
    "    print(\"Transaction successfull\")\n",
    "else:\n",
    "    print(\"transaction not successfull\")"
   ]
  },
  {
   "cell_type": "code",
   "execution_count": null,
   "id": "11c76ef2",
   "metadata": {},
   "outputs": [
    {
     "name": "stdout",
     "output_type": "stream",
     "text": [
      "Nice weather, go out!\n"
     ]
    }
   ],
   "source": [
    "# 28. Weather Suggestion\n",
    "# Write a program that takes the temperature as input and gives a suggestion:\n",
    "# 35 → \"Too hot, stay indoors!\"\n",
    "# 20–35 → \"Nice weather, go out!\"\n",
    "# < 20 → \"It’s cold, wear warm clothes!\"\n",
    "\n",
    "temp=int(input())\n",
    "\n",
    "if temp<20:\n",
    "    print(\"It’s cold, wear warm clothes!\")\n",
    "elif temp>=20 and temp<35:\n",
    "    print( \"Nice weather, go out!\")\n",
    "elif temp>=35:\n",
    "    print(\"Too hot, stay indoors!\")"
   ]
  },
  {
   "cell_type": "code",
   "execution_count": null,
   "id": "021ea7db",
   "metadata": {},
   "outputs": [
    {
     "name": "stdout",
     "output_type": "stream",
     "text": [
      "fine= 10\n"
     ]
    }
   ],
   "source": [
    "# 29. Library Fine\n",
    "# A library charges a fine for late book returns:\n",
    "# 1–5 days → ₹10\n",
    "# 6–10 days → ₹50\n",
    "# 10 days → ₹100\n",
    "# Write a program that takes the number of late days as input and prints the fine amount.\n",
    "\n",
    "late_days=int(input())\n",
    "fine=0\n",
    "\n",
    "if late_days>=1 and late_days<6:\n",
    "    fine=10\n",
    "    print(\"fine=\",fine)\n",
    "elif late_days>=6 and late_days<10:\n",
    "    fine=50\n",
    "    print(\"fine=\",fine)\n",
    "elif late_days==10:\n",
    "    fine=100\n",
    "    print(\"fine=\",fine)"
   ]
  },
  {
   "cell_type": "code",
   "execution_count": null,
   "id": "a8404f63",
   "metadata": {},
   "outputs": [
    {
     "name": "stdout",
     "output_type": "stream",
     "text": [
      "Total Bill Amount = ₹ 4200\n"
     ]
    }
   ],
   "source": [
    "# 30. Electricity Bill Calculator\n",
    "# An electricity board charges:\n",
    "# First 100 units → ₹5 per unit\n",
    "# Next 100 units (101–200) → ₹7 per unit\n",
    "# Above 200 units → ₹10 per unit\n",
    "# Write a program that takes units consumed as input and prints the bill amount.\n",
    "\n",
    "units_consumed = int(input(\"Enter units consumed: \"))\n",
    "bill = 0\n",
    "\n",
    "if units_consumed <= 100:\n",
    "    bill = units_consumed * 5\n",
    "elif units_consumed <= 200:\n",
    "    bill = (100 * 5) + (units_consumed - 100) * 7\n",
    "else:\n",
    "    bill = (100 * 5) + (100 * 7) + (units_consumed - 200) * 10\n",
    "\n",
    "print(\"Total Bill Amount = ₹\", bill)\n",
    "\n"
   ]
  }
 ],
 "metadata": {
  "kernelspec": {
   "display_name": "Python 3",
   "language": "python",
   "name": "python3"
  },
  "language_info": {
   "codemirror_mode": {
    "name": "ipython",
    "version": 3
   },
   "file_extension": ".py",
   "mimetype": "text/x-python",
   "name": "python",
   "nbconvert_exporter": "python",
   "pygments_lexer": "ipython3",
   "version": "3.11.13"
  }
 },
 "nbformat": 4,
 "nbformat_minor": 5
}
